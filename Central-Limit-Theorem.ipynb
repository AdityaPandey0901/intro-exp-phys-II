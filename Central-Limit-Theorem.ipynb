{
 "cells": [
  {
   "cell_type": "markdown",
   "metadata": {
    "collapsed": true
   },
   "source": [
    "## Central Limit Theorem\n",
    "\n",
    "The [central limit theorem](https://en.wikipedia.org/wiki/Central_limit_theorem) is a key result in probability theory that helps explain why normal, or Gaussian, distributions are so omnipresent. The setup is that you have distributions for $N$ random variables $x_i$ and you want to know the distribution of $q = \\sum_{i=1}^{N} x_i$. Think of each $x_i$ as coming from it's own distribution like in the figure below. For instance, $x_1$ might be the weight of spoons, $x_2$ the weight of forks, $x_3$ the weight of bowls, ..., and $x_N$ of plates in your kitchen. Then $q$ would represent the total weight when you have one of each of those objects. The distribution of weights for each object might be weird because you have some mix-and-match set of silverware from your parents, grandparents, IKEA, and the thrift shop. The *central limit theorem* says that if you have enough objects (i.e. $N$ is large), then $q$ has a normal (Gaussian) distribution.\n",
    "\n",
    "![](Central_limit_theorem.png)\n",
    "\n",
    "Moreover, the central limit theorem states that the mean value of $q$ is given by\n",
    "\n",
    "\\begin{equation}\n",
    "\\mu_{q} = \\sum_{i=1}^{N} \\mu_{x_i} \n",
    "\\end{equation}\n",
    "\n",
    "and the variance (standard deviation squared) is given by\n",
    "\n",
    "\\begin{equation}\n",
    "\\sigma_{q}^{2} = \\sum_{i=1}^{N} \\sigma^2_{x_i} \n",
    "\\end{equation}\n",
    "\n",
    "*if you are having problems with the math displaing, click [here](http://nbviewer.jupyter.org/github/cranmer/intro-exp-phys-II/blob/master/Central-Limit-Theorem.ipynb?flush_cache=true)*\n",
    "\n",
    "The mean probably isn't surprising because $q$ is just a sum and the integral the defines the mean just distributes across each term. Also, the equation for the variance is the same as the propagation of errors formula we use when we add different measurements together. However, that propoagation of errors formula is derived from the Central Limit Theorem, not vice versa.\n",
    "\n",
    "### This is a collaborative project\n",
    "\n",
    "In this repository there is a folder called `distributions` with several python files. The idea is that each student will create one of these python files and we will use GitHub to collect them. Each of these files has a python class that describes a probability distribution.  Each of these classes will define:\n",
    "   * `x_min, x_max, f_max` - used for the accept/reject Monte Carlo sampling algorithm\n",
    "   * `pdf()` - the probability density function\n",
    "   * `mean()` - the mean of the pdf\n",
    "   * `std()` - the standard deviation of the pdf\n",
    "   \n",
    "In addition, each of these python classes inherits from `BaseDistribution` which knows how to run the accept/reject algorithm using the information above ([see inside](distributions/base_distribution.py) ). In order to generate `n_samples` from the pdf, you simply call `dist.rvs(n_samples)`, where `dist` is an instance of one of these python classes.\n",
    "\n",
    "**Naming Convention**: Name your file `Dist_<netid>.py` and your distribution the same way (without the `.py`). If you want to contribute more than one distribution, you can can add `Dist_<netid>_<index>.py`, where `<index>` is 1,2,3,...\n",
    "\n",
    "Here's an example:"
   ]
  },
  {
   "cell_type": "code",
   "execution_count": 1,
   "metadata": {
    "collapsed": false
   },
   "outputs": [
    {
     "name": "stdout",
     "output_type": "stream",
     "text": [
      "\r\n",
      "import numpy as np\r\n",
      "from base_distribution import BaseDistribution\r\n",
      "\r\n",
      "class Dist_kc90(BaseDistribution):\r\n",
      "\tdef __init__(self):\r\n",
      "\t\tself.f_max = 1\r\n",
      "\t\tself.x_min = -1\r\n",
      "\t\tself.x_max = 1\r\n",
      "\r\n",
      "\r\n",
      "\tdef pdf(self, x):\r\n",
      "\t\t\"\"\"This is your PDF\"\"\"\r\n",
      "\t\treturn np.abs(x)\r\n",
      "\r\n",
      "\tdef mean(self):\r\n",
      "\t\t\"\"\"This is the mean of the PDF\"\"\"\r\n",
      "\t\treturn 0.\r\n",
      "\r\n",
      "\tdef std(self):\r\n",
      "\t\t\"\"\"This is the standard deviation of the pdf\"\"\"\r\n",
      "\t\treturn np.sqrt(0.5)\r\n",
      "\r\n",
      "\r\n",
      "def test(cls):\r\n",
      "\ttry:\r\n",
      "\t\tdist = cls()\r\n",
      "\t\tN_test = 100000\r\n",
      "\t\trvs = dist.rvs(N_test)\r\n",
      "\t\tif np.abs(np.mean(rvs) - dist.mean()) > 5*np.std(rvs)/np.sqrt(N_test):\r\n",
      "\t\t\tprint(\"means don't match for %s: %f vs. %f\" %(cls.__name__, \r\n",
      "\t\t\t\t\t\t\t\t\t\t\t\t\t\t  np.mean(rvs), dist.mean()))\r\n",
      "\t\t\t\r\n",
      "\t\telif np.abs(np.std(rvs) - dist.std()) > 5*np.std(rvs)/np.sqrt(np.sqrt(1.*N_test)):\r\n",
      "\t\t\tprint(\"std devs. don't match for %s: %f vs. %f\" %(cls.__name__, \r\n",
      "\t\t\t\t\t\t\t\t\t\t\t\t\t\t  np.std(rvs), dist.std()))\r\n",
      "\t\t\r\n",
      "\t\telif np.sum(dist.pdf(np.linspace(dist.x_min,dist.x_max,100))<0) > 0:\r\n",
      "\t\t\tprint(\"pdf was negative in some places\")\r\n",
      "\r\n",
      "\t\telse:\r",
      "\r\n",
      "\t\t\tprint(\"%s passes tests, adding it\" %(cls.__name__))\r\n",
      "\texcept:\r\n",
      "\t\tprint(\"%s has errors't work\" %(cls.__name__))\r\n",
      "\r\n",
      "if __name__ == '__main__':\r\n",
      "\ttest(Dist_kc90)"
     ]
    }
   ],
   "source": [
    "!cat distributions/Dist_kc90.py"
   ]
  },
  {
   "cell_type": "markdown",
   "metadata": {},
   "source": [
    "## Example usage of the distributions\n",
    "\n",
    "Ok, now let's use them. So far there are only two distributions, but there will be more soon."
   ]
  },
  {
   "cell_type": "code",
   "execution_count": 1,
   "metadata": {
    "collapsed": false
   },
   "outputs": [
    {
     "name": "stdout",
     "output_type": "stream",
     "text": [
      "Populating the interactive namespace from numpy and matplotlib\n"
     ]
    }
   ],
   "source": [
    "%pylab inline --no-import-all\n",
    "from scipy.stats import norm #will use this for plotting"
   ]
  },
  {
   "cell_type": "code",
   "execution_count": 2,
   "metadata": {
    "collapsed": false
   },
   "outputs": [],
   "source": [
    "# import all our distributions\n",
    "import distributions"
   ]
  },
  {
   "cell_type": "code",
   "execution_count": 3,
   "metadata": {
    "collapsed": false
   },
   "outputs": [
    {
     "data": {
      "text/plain": [
       "['Dist_my1462',\n",
       " 'Dist_ptf223',\n",
       " 'Dist_jeg535',\n",
       " 'Dist_recast',\n",
       " 'Dist_mh3908',\n",
       " 'Dist_kc90',\n",
       " 'Dist_kc90_2',\n",
       " 'Dist_kc90_3',\n",
       " 'Dist_ac5790',\n",
       " 'Dist_vag273_2',\n",
       " 'Dist_vag273_1',\n",
       " 'Dist_vag273',\n",
       " 'Dist_rdr335']"
      ]
     },
     "execution_count": 3,
     "metadata": {},
     "output_type": "execute_result"
    }
   ],
   "source": [
    "# some funny python to make a list of all the distributions for convenience\n",
    "all_distributions_dict = dict([(name, cls) for name, cls in distributions.__dict__.items() if isinstance(cls, type)])\n",
    "all_distributions_list = [(cls) for name, cls in distributions.__dict__.items() if isinstance(cls, type)]\n",
    "# print out their names\n",
    "all_distributions_dict.keys()"
   ]
  },
  {
   "cell_type": "code",
   "execution_count": 4,
   "metadata": {
    "collapsed": false
   },
   "outputs": [
    {
     "data": {
      "text/plain": [
       "13"
      ]
     },
     "execution_count": 4,
     "metadata": {},
     "output_type": "execute_result"
    }
   ],
   "source": [
    "len(all_distributions_dict.keys())"
   ]
  },
  {
   "cell_type": "code",
   "execution_count": 12,
   "metadata": {
    "collapsed": false
   },
   "outputs": [
    {
     "name": "stdout",
     "output_type": "stream",
     "text": [
      "means don't match for Dist_my1462: -1.843409 vs. 3.000000\n",
      "Dist_mh3908 has errors, does't work\n",
      "Dist_ptf223 passes tests, adding it\n",
      "means don't match for Dist_jeg535: -1.927432 vs. 0.072000\n",
      "std devs. don't match for Dist_rdr335: 0.398632 vs. 0.100000\n",
      "Dist_kc90_3 passes tests, adding it\n",
      "std devs. don't match for Dist_vag273_1: 0.144377 vs. 0.288675\n",
      "Dist_vag273_2 has errors, does't work\n",
      "Dist_kc90_2 passes tests, adding it\n",
      "Dist_kc90 passes tests, adding it\n",
      "Dist_recast passes tests, adding it\n",
      "std devs. don't match for Dist_vag273: 0.144192 vs. 0.288675\n",
      "Dist_ac5790 passes tests, adding it\n",
      "('list of ok distributions:', ['Dist_ptf223', 'Dist_kc90_3', 'Dist_kc90_2', 'Dist_kc90', 'Dist_recast', 'Dist_ac5790'])\n",
      "('list of problem distributions:', ['Dist_my1462', 'Dist_mh3908', 'Dist_jeg535', 'Dist_rdr335', 'Dist_vag273_1', 'Dist_vag273_2', 'Dist_vag273'])\n"
     ]
    }
   ],
   "source": [
    "## Do tests\n",
    "ok_distributions_list=[]\n",
    "problems=[]\n",
    "for i, cls in enumerate(all_distributions_list):\n",
    "    try:\n",
    "        dist = cls()\n",
    "        N_test = 100000\n",
    "        rvs = dist.rvs(N_test)\n",
    "        if np.abs(np.mean(rvs) - dist.mean()) > 5*np.std(rvs)/np.sqrt(N_test):\n",
    "            print(\"means don't match for %s: %f vs. %f\" %(cls.__name__, \n",
    "                                                          np.mean(rvs), dist.mean()))\n",
    "            continue\n",
    "            \n",
    "        elif np.abs(np.std(rvs) - dist.std()) > 5*np.std(rvs)/np.sqrt(np.sqrt(1.*N_test)):\n",
    "            print(\"std devs. don't match for %s: %f vs. %f\" %(cls.__name__, \n",
    "                                                          np.std(rvs), dist.std()))\n",
    "            continue\n",
    "        \n",
    "        elif np.sum(dist.pdf(np.linspace(dist.x_min,dist.x_max,100))<0) > 0:\n",
    "            print(\"pdf was negative in some places\")\n",
    "            continue                    \n",
    "\n",
    "        else:\n",
    "            print(\"%s passes tests, adding it\" %(cls.__name__))\n",
    "            ok_distributions_list.append(cls)\n",
    "    except:\n",
    "        print(\"%s has errors, does't work\" %(cls.__name__))\n",
    "\n",
    "print(\"list of ok distributions:\",[i.__name__ for i in ok_distributions_list])\n",
    "\n",
    "\n"
   ]
  },
  {
   "cell_type": "code",
   "execution_count": 14,
   "metadata": {
    "collapsed": false
   },
   "outputs": [
    {
     "data": {
      "text/plain": [
       "['Dist_my1462',\n",
       " 'Dist_mh3908',\n",
       " 'Dist_jeg535',\n",
       " 'Dist_rdr335',\n",
       " 'Dist_vag273_1',\n",
       " 'Dist_vag273_2',\n",
       " 'Dist_vag273']"
      ]
     },
     "execution_count": 14,
     "metadata": {},
     "output_type": "execute_result"
    }
   ],
   "source": [
    "problems = [x for x in all_distributions_list if x not in ok_distributions_list]\n",
    "[i.__name__ for i in problems]"
   ]
  },
  {
   "cell_type": "code",
   "execution_count": 6,
   "metadata": {
    "collapsed": true
   },
   "outputs": [],
   "source": [
    "# how many samples for plots?\n",
    "n_samples = 100000"
   ]
  },
  {
   "cell_type": "code",
   "execution_count": 9,
   "metadata": {
    "collapsed": false
   },
   "outputs": [
    {
     "data": {
      "text/plain": [
       "[<matplotlib.lines.Line2D at 0x10e721650>]"
      ]
     },
     "execution_count": 9,
     "metadata": {},
     "output_type": "execute_result"
    },
    {
     "data": {
      "image/png": "[encoded data removed]",
      "text/plain": [
       "<matplotlib.figure.Figure at 0x10e721050>"
      ]
     },
     "metadata": {},
     "output_type": "display_data"
    }
   ],
   "source": [
    "# Here's an example of usage\n",
    "dist = distributions.Dist_ac5790()\n",
    "rvs = dist.rvs(n_samples)\n",
    "counts, bins, edges = plt.hist(rvs, bins=50, normed=True, alpha =0.2)\n",
    "y = []\n",
    "for bin in bins:\n",
    "    y.append(dist.pdf(bin))\n",
    "plt.plot(bins, y, c='r', lw=2)"
   ]
  },
  {
   "cell_type": "markdown",
   "metadata": {},
   "source": [
    "## Let's inspect all the distributions we have\n",
    "\n",
    "Here we will loop over the different distributions and make a plot like the one above"
   ]
  },
  {
   "cell_type": "code",
   "execution_count": 11,
   "metadata": {
    "collapsed": false
   },
   "outputs": [
    {
     "name": "stdout",
     "output_type": "stream",
     "text": [
      "std from samples = 0.71, std from dist = 0.71\n",
      "std from samples = 5.39, std from dist = 5.40\n",
      "std from samples = 0.29, std from dist = 0.29\n",
      "std from samples = 0.71, std from dist = 0.71\n",
      "std from samples = 5.39, std from dist = 5.40\n",
      "std from samples = 0.29, std from dist = 0.29\n"
     ]
    },
    {
     "data": {
      "image/png": "[encoded data removed]",
      "text/plain": [
       "<matplotlib.figure.Figure at 0x10d6d4dd0>"
      ]
     },
     "metadata": {},
     "output_type": "display_data"
    }
   ],
   "source": [
    "fig = plt.figure(figsize=plt.figaspect(2.))\n",
    "for i, cls in enumerate(ok_distributions_list):\n",
    "    dist = cls()\n",
    "    rvs = dist.rvs(100000)\n",
    "    ax = fig.add_subplot(len(ok_distributions_list),1,i+1)\n",
    "    counts, bins, patches = ax.hist(rvs, bins=50, normed=True, alpha=0.2)\n",
    "    # depending on how you code up your pdf() function, numpy might not\n",
    "    # be able to \"broadcast\" (apply the function for each element of a numpy array)\n",
    "    # but this should always wrok\n",
    "    y = []\n",
    "    for bin in bins:\n",
    "        y.append(dist.pdf(bin))\n",
    "        \n",
    "    # ok, now plot it\n",
    "    plt.plot(bins, y, c='r', lw=2)\n",
    "    \n",
    "    # and let's check if teh distribution is ok\n",
    "    print(\"std from samples = %.2f, std from dist = %.2f\" %(np.std(dist.rvs(n_samples)), dist.std()))\n",
    "    if np.abs(np.std(dist.rvs(n_samples)) - dist.std()) / dist.std() > 0.1:\n",
    "        print(\"looks like a problem with this distribution: \", cls)"
   ]
  },
  {
   "cell_type": "markdown",
   "metadata": {
    "collapsed": false
   },
   "source": [
    "## Demonstration of the Central Limit Theorem\n",
    "\n",
    "ok, let's use one of the distributions to demonstrate the central limit theorem. We will use the same distribution $N$ times.\n",
    "\n",
    "First let's make a little helper function."
   ]
  },
  {
   "cell_type": "code",
   "execution_count": null,
   "metadata": {
    "collapsed": true
   },
   "outputs": [],
   "source": [
    "def do_convolution(dist, N):\n",
    "    n_samples = 100000\n",
    "    q = np.zeros(n_samples)\n",
    "    var_q = 0.\n",
    "    mean_q = 0.\n",
    "\n",
    "    for i in range(N):\n",
    "        q = q+dist.rvs(n_samples)\n",
    "        var_q = var_q + dist.std()**2\n",
    "        mean_q = mean_q + dist.mean()\n",
    "\n",
    "    std_q = np.sqrt( var_q )\n",
    "\n",
    "\n",
    "    counts, bins, patches = plt.hist(q,bins=50, normed=True, alpha=.2)\n",
    "    plt.plot(bins, norm.pdf(bins,loc=mean_q, scale=std_q), lw=2, c='r')"
   ]
  },
  {
   "cell_type": "markdown",
   "metadata": {},
   "source": [
    "Now let's use it for $N=\\{2,4,32\\}$"
   ]
  },
  {
   "cell_type": "code",
   "execution_count": null,
   "metadata": {
    "collapsed": false
   },
   "outputs": [],
   "source": [
    "dist = distributions.Dist_kc90_3()\n",
    "do_convolution(dist,2)"
   ]
  },
  {
   "cell_type": "code",
   "execution_count": null,
   "metadata": {
    "collapsed": false
   },
   "outputs": [],
   "source": [
    "do_convolution(dist,4)"
   ]
  },
  {
   "cell_type": "code",
   "execution_count": null,
   "metadata": {
    "collapsed": false
   },
   "outputs": [],
   "source": [
    "do_convolution(dist,32)"
   ]
  },
  {
   "cell_type": "markdown",
   "metadata": {},
   "source": [
    "*Gorgeous!*"
   ]
  },
  {
   "cell_type": "markdown",
   "metadata": {},
   "source": [
    "## Now let's do the same thing randomly using different distributions \n",
    "\n",
    "To do this we will use `np.random.choice` to randomly choose from our list. Here's an example"
   ]
  },
  {
   "cell_type": "code",
   "execution_count": null,
   "metadata": {
    "collapsed": false
   },
   "outputs": [],
   "source": [
    "np.random.choice(['a','b','c','d'], 10)"
   ]
  },
  {
   "cell_type": "markdown",
   "metadata": {},
   "source": [
    "Now let's make a variation on the helper function above"
   ]
  },
  {
   "cell_type": "code",
   "execution_count": null,
   "metadata": {
    "collapsed": true
   },
   "outputs": [],
   "source": [
    "def do_random_convolution(list_of_distributions, N):\n",
    "    n_samples = 100000\n",
    "    q = np.zeros(n_samples)\n",
    "    var_q = 0.\n",
    "    mean_q = 0.\n",
    "\n",
    "    for dist_class in np.random.choice(list_of_distributions,N):\n",
    "        dist = dist_class()\n",
    "        q = q+dist.rvs(n_samples)\n",
    "        var_q = var_q + dist.std()**2\n",
    "        mean_q = mean_q + dist.mean()\n",
    "\n",
    "    std_q = np.sqrt( var_q )\n",
    "\n",
    "\n",
    "    counts, bins, patches = plt.hist(q,bins=50, normed=True, alpha=.2)\n",
    "    plt.plot(bins, norm.pdf(bins,loc=mean_q, scale=std_q), lw=2, c='r')"
   ]
  },
  {
   "cell_type": "code",
   "execution_count": null,
   "metadata": {
    "collapsed": false
   },
   "outputs": [],
   "source": [
    "do_random_convolution(ok_distributions_list,2)"
   ]
  },
  {
   "cell_type": "code",
   "execution_count": null,
   "metadata": {
    "collapsed": false
   },
   "outputs": [],
   "source": [
    "do_random_convolution(ok_distributions_list,4)"
   ]
  },
  {
   "cell_type": "code",
   "execution_count": null,
   "metadata": {
    "collapsed": false
   },
   "outputs": [],
   "source": [
    "do_random_convolution(ok_distributions_list,32)"
   ]
  },
  {
   "cell_type": "code",
   "execution_count": null,
   "metadata": {
    "collapsed": true
   },
   "outputs": [],
   "source": []
  },
  {
   "cell_type": "code",
   "execution_count": null,
   "metadata": {
    "collapsed": true
   },
   "outputs": [],
   "source": []
  }
 ],
 "metadata": {
  "kernelspec": {
   "display_name": "Python 2",
   "language": "python",
   "name": "python2"
  },
  "language_info": {
   "codemirror_mode": {
    "name": "ipython",
    "version": 2
   },
   "file_extension": ".py",
   "mimetype": "text/x-python",
   "name": "python",
   "nbconvert_exporter": "python",
   "pygments_lexer": "ipython2",
   "version": "2.7.11"
  }
 },
 "nbformat": 4,
 "nbformat_minor": 0
}
